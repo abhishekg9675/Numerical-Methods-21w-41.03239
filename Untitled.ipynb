{
 "cells": [
  {
   "cell_type": "code",
   "execution_count": 1,
   "id": "d0a16e26-1bad-4fb1-8423-eb80b3c76f09",
   "metadata": {},
   "outputs": [],
   "source": [
    "import math\n",
    "import numpy\n"
   ]
  },
  {
   "cell_type": "code",
   "execution_count": null,
   "id": "bee030a0-0a60-4500-ab0d-1d7fb529d74e",
   "metadata": {},
   "outputs": [],
   "source": [
    "def taylor()"
   ]
  }
 ],
 "metadata": {
  "kernelspec": {
   "display_name": "Python 3 (ipykernel)",
   "language": "python",
   "name": "python3"
  },
  "language_info": {
   "codemirror_mode": {
    "name": "ipython",
    "version": 3
   },
   "file_extension": ".py",
   "mimetype": "text/x-python",
   "name": "python",
   "nbconvert_exporter": "python",
   "pygments_lexer": "ipython3",
   "version": "3.9.9"
  }
 },
 "nbformat": 4,
 "nbformat_minor": 5
}
